{
  "nbformat": 4,
  "nbformat_minor": 0,
  "metadata": {
    "colab": {
      "provenance": []
    },
    "kernelspec": {
      "name": "python3",
      "display_name": "Python 3"
    },
    "language_info": {
      "name": "python"
    }
  },
  "cells": [
    {
      "cell_type": "code",
      "execution_count": null,
      "metadata": {
        "id": "IqQTz1AfAZ7i"
      },
      "outputs": [],
      "source": [
        "from tensorflow.keras.models import Model\n",
        "from tensorflow.keras.layers import Input, Conv2D, MaxPooling2D, Flatten, Dense, Dropout, Concatenate\n",
        "\n",
        "# Input Layers\n",
        "input_1 = Input(shape=(224, 192, 1), name='input_1')\n",
        "\n",
        "# Convolutional Layers\n",
        "conv2d_1 = Conv2D(8, (3, 3), padding='same', activation='relu', name='conv2d_1')(input_1)\n",
        "conv2d_2 = Conv2D(8, (3, 3), padding='valid', activation='relu', name='conv2d_2')(conv2d_1)\n",
        "conv2d_3 = Conv2D(16, (3, 3), padding='same', activation='relu', name='conv2d_3')(conv2d_2)\n",
        "max_pooling2d_1 = MaxPooling2D((2, 2), name='max_pooling2d_1')(conv2d_3)\n",
        "\n",
        "conv2d_4 = Conv2D(32, (3, 3), padding='same', activation='relu', name='conv2d_4')(max_pooling2d_1)\n",
        "conv2d_5 = Conv2D(32, (3, 3), padding='valid', activation='relu', name='conv2d_5')(conv2d_4)\n",
        "max_pooling2d_2 = MaxPooling2D((2, 2), name='max_pooling2d_2')(conv2d_5)\n",
        "\n",
        "conv2d_6 = Conv2D(64, (3, 3), padding='same', activation='relu', name='conv2d_6')(max_pooling2d_2)\n",
        "conv2d_7 = Conv2D(64, (3, 3), padding='same', activation='relu', name='conv2d_7')(conv2d_6)\n",
        "conv2d_8 = Conv2D(64, (3, 3), padding='same', activation='relu', name='conv2d_8')(conv2d_7)\n",
        "max_pooling2d_3 = MaxPooling2D((2, 2), name='max_pooling2d_3')(conv2d_8)\n",
        "\n",
        "conv2d_9 = Conv2D(128, (3, 3), padding='same', activation='relu', name='conv2d_9')(max_pooling2d_3)\n",
        "conv2d_10 = Conv2D(128, (3, 3), padding='same', activation='relu', name='conv2d_10')(conv2d_9)\n",
        "conv2d_11 = Conv2D(128, (3, 3), padding='same', activation='relu', name='conv2d_11')(conv2d_10)\n",
        "max_pooling2d_4 = MaxPooling2D((2, 2), name='max_pooling2d_4')(conv2d_11)\n",
        "\n",
        "conv2d_12 = Conv2D(128, (3, 3), padding='same', activation='relu', name='conv2d_12')(max_pooling2d_4)\n",
        "conv2d_13 = Conv2D(128, (3, 3), padding='same', activation='relu', name='conv2d_13')(conv2d_12)\n",
        "\n",
        "# Flatten and Fully Connected Layers\n",
        "flatten = Flatten(name='flatten')(conv2d_13)\n",
        "dense_1 = Dense(1000, activation='relu', name='dense_1')(flatten)\n",
        "dense_2 = Dense(1000, activation='relu', name='dense_2')(dense_1)\n",
        "\n",
        "# Second Input Layer for Concatenation\n",
        "input_2 = Input(shape=(8,), name='input_2')\n",
        "concatenate = Concatenate(name='concatenate')([dense_2, input_2])\n",
        "\n",
        "# More Dense Layers\n",
        "dense_3 = Dense(100, activation='relu', name='dense_3')(concatenate)\n",
        "dropout_1 = Dropout(0.5, name='dropout_1')(dense_3)\n",
        "dense_4 = Dense(1, activation='sigmoid', name='dense_4')(dropout_1)\n",
        "\n",
        "# Model\n",
        "model = Model(inputs=[input_1, input_2], outputs=dense_4)\n",
        "\n",
        "# Summary\n",
        "model.summary()\n"
      ]
    },
    {
      "cell_type": "code",
      "source": [
        "model.compile(optimizer='adam',loss='mse',metrics=['accuracy'])\n",
        "\n",
        "# Train the model\n",
        "model.fit(x=[X_train,vector_train],y=Y_train,\n",
        "          epochs=20,\n",
        "          batch_size=128, shuffle=True,validation_split=0.15)"
      ],
      "metadata": {
        "id": "sFdxD-GFAsnu"
      },
      "execution_count": null,
      "outputs": []
    }
  ]
}